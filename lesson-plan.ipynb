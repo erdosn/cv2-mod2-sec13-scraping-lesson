{
 "cells": [
  {
   "cell_type": "markdown",
   "metadata": {},
   "source": [
    "### Questions"
   ]
  },
  {
   "cell_type": "markdown",
   "metadata": {},
   "source": [
    "### Objectives\n",
    "YWBAT\n",
    "* scrape data from a website (pagination)\n",
    "* grab the useful data from a webpage\n",
    "* store this data in a dataframe\n",
    "* save your dataframe"
   ]
  },
  {
   "cell_type": "markdown",
   "metadata": {},
   "source": [
    "### Outline"
   ]
  },
  {
   "cell_type": "code",
   "execution_count": 6,
   "metadata": {},
   "outputs": [],
   "source": [
    "import requests # grabbing the 'html-info'  from the url\n",
    "\n",
    "import pandas as pd\n",
    "import numpy as np\n",
    "\n",
    "from bs4 import BeautifulSoup # a tool to traverse your html page or xml page or ... \n",
    "\n",
    "\n",
    "import matplotlib.pyplot as plt"
   ]
  },
  {
   "cell_type": "code",
   "execution_count": 7,
   "metadata": {},
   "outputs": [
    {
     "data": {
      "text/plain": [
       "'https://www.ebay.com/sch/i.html?_nkw=floor+lamps'"
      ]
     },
     "execution_count": 7,
     "metadata": {},
     "output_type": "execute_result"
    }
   ],
   "source": [
    "search = 'floor lamps'\n",
    "url = \"https://www.ebay.com/sch/i.html?_nkw={}\".format(search.replace(\" \", \"+\"))\n",
    "url\n",
    "page_url = \"https://www.ebay.com/sch/i.html?_nkw={}&_pgn={}\".format(search.replace(\" \", \"+\"), 2)"
   ]
  },
  {
   "cell_type": "code",
   "execution_count": 8,
   "metadata": {},
   "outputs": [
    {
     "data": {
      "text/plain": [
       "b'<!DOCTYPE html><!--[if IE 9]><html class=\"ie9\" lan'"
      ]
     },
     "execution_count": 8,
     "metadata": {},
     "output_type": "execute_result"
    }
   ],
   "source": [
    "res_page = requests.get(url)\n",
    "res_page.content[:50]"
   ]
  },
  {
   "cell_type": "code",
   "execution_count": 9,
   "metadata": {},
   "outputs": [],
   "source": [
    "soup = BeautifulSoup(res_page.content, 'html.parser')"
   ]
  },
  {
   "cell_type": "code",
   "execution_count": 11,
   "metadata": {},
   "outputs": [],
   "source": [
    "# Let's build a function to make a soup object from a search"
   ]
  },
  {
   "cell_type": "code",
   "execution_count": 61,
   "metadata": {},
   "outputs": [],
   "source": [
    "def get_ebay_soup(search='floor lamps', page_number=1, parser='html.parser'):\n",
    "    url = \"https://www.ebay.com/sch/i.html?_nkw={}&_pgn={}\".format(search.replace(\" \", \"+\"), page_number)\n",
    "    res_page = requests.get(url)\n",
    "    soup = BeautifulSoup(res_page.content, 'html.parser')\n",
    "    return soup"
   ]
  },
  {
   "cell_type": "code",
   "execution_count": 62,
   "metadata": {},
   "outputs": [],
   "source": [
    "def get_item_boxes(search, page, parser='html.parser'):\n",
    "    soup = get_ebay_soup(search, page, parser)\n",
    "    item_boxes = soup.find_all(\"div\", attrs={\"class\":\"s-item__wrapper\"})\n",
    "    return item_boxes"
   ]
  },
  {
   "cell_type": "code",
   "execution_count": 72,
   "metadata": {},
   "outputs": [],
   "source": [
    "def make_item_box_dict_list(item_boxes, dlist=[]):\n",
    "    for index, item_box in enumerate(item_boxes):\n",
    "        d = dict()\n",
    "\n",
    "        try:\n",
    "            d[\"price\"] = float(item_box.find(\"span\", class_=\"s-item__price\").text.strip(\"$\"))\n",
    "        except:\n",
    "            # maybe include average price\n",
    "            continue\n",
    "\n",
    "        d[\"condition\"] = item_box.find(\"span\", class_=\"SECONDARY_INFO\").text\n",
    "\n",
    "        name_text = item_box.find(\"h3\").text.replace(\"SPONSORED\", \"SPONSORED$&~\")\n",
    "        if 'SPONSORED' in name_text:\n",
    "            d[\"sponsored\"] = name_text.replace(\"SPONSORED\", \"SPONSORED \").split(\"$&~\")[0]\n",
    "            d[\"name\"] = name_text.replace(\"SPONSORED\", \"SPONSORED \").split(\"$&~\")[1]\n",
    "        else:\n",
    "            d[\"name\"] = name_text\n",
    "            d[\"sponsored\"] = None\n",
    "\n",
    "        # shipping price\n",
    "        d[\"shipping_price\"] = item_box.find(\"span\", class_=\"s-item__shipping s-item__logisticsCost\").text\n",
    "\n",
    "        dlist.append(d)\n",
    "    return dlist"
   ]
  },
  {
   "cell_type": "code",
   "execution_count": 73,
   "metadata": {},
   "outputs": [],
   "source": [
    "def get_item_dict_list(search='floor lamps', page=1, parser='html.parser'):\n",
    "    item_boxes = get_item_boxes(search=search, page=page, parser=parser)\n",
    "    item_dict_list = make_item_box_dict_list(item_boxes)\n",
    "    return item_dict_list"
   ]
  },
  {
   "cell_type": "code",
   "execution_count": 74,
   "metadata": {},
   "outputs": [],
   "source": [
    "item_dict_list = []\n",
    "for page in range(1, 2):\n",
    "    item_dict_list_sub = get_item_dict_list(search=\"avengers lunchboxes\", page=page)\n",
    "    item_dict_list.extend(item_dict_list_sub)"
   ]
  },
  {
   "cell_type": "code",
   "execution_count": 75,
   "metadata": {},
   "outputs": [
    {
     "data": {
      "text/html": [
       "<div>\n",
       "<style scoped>\n",
       "    .dataframe tbody tr th:only-of-type {\n",
       "        vertical-align: middle;\n",
       "    }\n",
       "\n",
       "    .dataframe tbody tr th {\n",
       "        vertical-align: top;\n",
       "    }\n",
       "\n",
       "    .dataframe thead th {\n",
       "        text-align: right;\n",
       "    }\n",
       "</style>\n",
       "<table border=\"1\" class=\"dataframe\">\n",
       "  <thead>\n",
       "    <tr style=\"text-align: right;\">\n",
       "      <th></th>\n",
       "      <th>condition</th>\n",
       "      <th>name</th>\n",
       "      <th>price</th>\n",
       "      <th>shipping_price</th>\n",
       "      <th>sponsored</th>\n",
       "    </tr>\n",
       "  </thead>\n",
       "  <tbody>\n",
       "    <tr>\n",
       "      <th>0</th>\n",
       "      <td>Brand New</td>\n",
       "      <td>Marvel's Avengers: Infinity War Lunch Box  - O...</td>\n",
       "      <td>13.99</td>\n",
       "      <td>Free Shipping</td>\n",
       "      <td>SPONSORED</td>\n",
       "    </tr>\n",
       "    <tr>\n",
       "      <th>1</th>\n",
       "      <td>Brand New</td>\n",
       "      <td>Marvel Kawaii Avengers Girls Boys Soft Insulat...</td>\n",
       "      <td>18.99</td>\n",
       "      <td>Free Shipping</td>\n",
       "      <td>None</td>\n",
       "    </tr>\n",
       "    <tr>\n",
       "      <th>2</th>\n",
       "      <td>Pre-Owned</td>\n",
       "      <td>Marvel Super Heroes Metal Lunchbox Thermos Set...</td>\n",
       "      <td>59.50</td>\n",
       "      <td>+$12.60 shipping</td>\n",
       "      <td>None</td>\n",
       "    </tr>\n",
       "    <tr>\n",
       "      <th>3</th>\n",
       "      <td>Brand New</td>\n",
       "      <td>Marvel Avengers Captain America Shield Shaped ...</td>\n",
       "      <td>16.33</td>\n",
       "      <td>Free Shipping</td>\n",
       "      <td>SPONSORED</td>\n",
       "    </tr>\n",
       "    <tr>\n",
       "      <th>4</th>\n",
       "      <td>Brand New</td>\n",
       "      <td>Avengers Thermal Lunch Box New Kid Child's  ma...</td>\n",
       "      <td>13.00</td>\n",
       "      <td>Free Shipping</td>\n",
       "      <td>SPONSORED</td>\n",
       "    </tr>\n",
       "  </tbody>\n",
       "</table>\n",
       "</div>"
      ],
      "text/plain": [
       "   condition                                               name  price  \\\n",
       "0  Brand New  Marvel's Avengers: Infinity War Lunch Box  - O...  13.99   \n",
       "1  Brand New  Marvel Kawaii Avengers Girls Boys Soft Insulat...  18.99   \n",
       "2  Pre-Owned  Marvel Super Heroes Metal Lunchbox Thermos Set...  59.50   \n",
       "3  Brand New  Marvel Avengers Captain America Shield Shaped ...  16.33   \n",
       "4  Brand New  Avengers Thermal Lunch Box New Kid Child's  ma...  13.00   \n",
       "\n",
       "     shipping_price   sponsored  \n",
       "0     Free Shipping  SPONSORED   \n",
       "1     Free Shipping        None  \n",
       "2  +$12.60 shipping        None  \n",
       "3     Free Shipping  SPONSORED   \n",
       "4     Free Shipping  SPONSORED   "
      ]
     },
     "execution_count": 75,
     "metadata": {},
     "output_type": "execute_result"
    }
   ],
   "source": [
    "df = pd.DataFrame(item_dict_list)\n",
    "df.head()"
   ]
  },
  {
   "cell_type": "code",
   "execution_count": 13,
   "metadata": {},
   "outputs": [],
   "source": [
    "soup = get_ebay_soup(search='floor lamps')"
   ]
  },
  {
   "cell_type": "code",
   "execution_count": 32,
   "metadata": {},
   "outputs": [
    {
     "data": {
      "text/plain": [
       "<span class=\"s-item__price\">$37.98</span>"
      ]
     },
     "execution_count": 32,
     "metadata": {},
     "output_type": "execute_result"
    }
   ],
   "source": [
    "soup.find_all(\"span\", class_=\"s-item__price\")[0] # querying the entire webpage"
   ]
  },
  {
   "cell_type": "code",
   "execution_count": 27,
   "metadata": {},
   "outputs": [
    {
     "data": {
      "text/plain": [
       "61"
      ]
     },
     "execution_count": 27,
     "metadata": {},
     "output_type": "execute_result"
    }
   ],
   "source": [
    "# How do I grab all of the item boxes?\n",
    "# <li class=\"s-item   \" \"data-view\"=\"...\" \"id\"=\"...\">\n",
    "item_boxes = soup.find_all(\"div\", attrs={\"class\":\"s-item__wrapper\"})\n",
    "len(item_boxes)"
   ]
  },
  {
   "cell_type": "code",
   "execution_count": 28,
   "metadata": {},
   "outputs": [],
   "source": [
    "# Pro Tip: Get everything ready for the first item you investigate\n"
   ]
  },
  {
   "cell_type": "code",
   "execution_count": 49,
   "metadata": {
    "scrolled": false
   },
   "outputs": [
    {
     "name": "stdout",
     "output_type": "stream",
     "text": [
      "SPONSORED  Wood Shelf Floor Lamp Linen Shade Light Storage Organizer Living Room Black Home 37.98 Free Shipping Brand New\n"
     ]
    }
   ],
   "source": [
    "item_box_1 = item_boxes[0]\n",
    "# get price\n",
    "price = float(item_box_1.find(\"span\", class_=\"s-item__price\").text.strip(\"$\"))\n",
    "condition = item_box_1.find(\"span\", class_=\"SECONDARY_INFO\").text\n",
    "# get the name/sponsored boolean\n",
    "name_text = item_box_1.find(\"h3\").text.replace(\"SPONSORED\", \"SPONSORED$&~\")\n",
    "if 'SPONSORED' in name_text:\n",
    "    sponsored = name_text.replace(\"SPONSORED\", \"SPONSORED \").split(\"$&~\")[0]\n",
    "    name = name_text.replace(\"SPONSORED\", \"SPONSORED \").split(\"$&~\")[1]\n",
    "else:\n",
    "    name = name_text\n",
    "    sponsored = None\n",
    "    \n",
    "# shipping price\n",
    "shipping_price = item_box_1.find(\"span\", class_=\"s-item__shipping s-item__logisticsCost\").text\n",
    "print(sponsored, name, price, shipping_price, condition)"
   ]
  },
  {
   "cell_type": "code",
   "execution_count": 50,
   "metadata": {},
   "outputs": [],
   "source": [
    "# Now that we're able to get our information from 1 box, let's generalize and load into df"
   ]
  },
  {
   "cell_type": "code",
   "execution_count": null,
   "metadata": {},
   "outputs": [],
   "source": [
    "make"
   ]
  },
  {
   "cell_type": "code",
   "execution_count": 54,
   "metadata": {},
   "outputs": [
    {
     "data": {
      "text/html": [
       "<div>\n",
       "<style scoped>\n",
       "    .dataframe tbody tr th:only-of-type {\n",
       "        vertical-align: middle;\n",
       "    }\n",
       "\n",
       "    .dataframe tbody tr th {\n",
       "        vertical-align: top;\n",
       "    }\n",
       "\n",
       "    .dataframe thead th {\n",
       "        text-align: right;\n",
       "    }\n",
       "</style>\n",
       "<table border=\"1\" class=\"dataframe\">\n",
       "  <thead>\n",
       "    <tr style=\"text-align: right;\">\n",
       "      <th></th>\n",
       "      <th>condition</th>\n",
       "      <th>name</th>\n",
       "      <th>price</th>\n",
       "      <th>shipping_price</th>\n",
       "      <th>sponsored</th>\n",
       "    </tr>\n",
       "  </thead>\n",
       "  <tbody>\n",
       "    <tr>\n",
       "      <th>0</th>\n",
       "      <td>Brand New</td>\n",
       "      <td>Wood Shelf Floor Lamp Linen Shade Light Storag...</td>\n",
       "      <td>37.98</td>\n",
       "      <td>Free Shipping</td>\n",
       "      <td>SPONSORED</td>\n",
       "    </tr>\n",
       "    <tr>\n",
       "      <th>1</th>\n",
       "      <td>Brand New</td>\n",
       "      <td>Aged Brass Pharmacy Floor Lamp Adjustable Swin...</td>\n",
       "      <td>99.99</td>\n",
       "      <td>Free Shipping</td>\n",
       "      <td>None</td>\n",
       "    </tr>\n",
       "    <tr>\n",
       "      <th>2</th>\n",
       "      <td>Brand New</td>\n",
       "      <td>Floor Lamps Living Room Lamp Arc LED Modern Ov...</td>\n",
       "      <td>54.02</td>\n",
       "      <td>Free Shipping</td>\n",
       "      <td>None</td>\n",
       "    </tr>\n",
       "    <tr>\n",
       "      <th>3</th>\n",
       "      <td>Brand New</td>\n",
       "      <td>Floor Lamps Living Room Lamp Arc LED Modern Ov...</td>\n",
       "      <td>49.99</td>\n",
       "      <td>Free Shipping</td>\n",
       "      <td>None</td>\n",
       "    </tr>\n",
       "    <tr>\n",
       "      <th>4</th>\n",
       "      <td>Brand New</td>\n",
       "      <td>Modern LED Floor Lamp Reading Light Dimmable R...</td>\n",
       "      <td>37.03</td>\n",
       "      <td>Free Shipping</td>\n",
       "      <td>None</td>\n",
       "    </tr>\n",
       "  </tbody>\n",
       "</table>\n",
       "</div>"
      ],
      "text/plain": [
       "   condition                                               name  price  \\\n",
       "0  Brand New  Wood Shelf Floor Lamp Linen Shade Light Storag...  37.98   \n",
       "1  Brand New  Aged Brass Pharmacy Floor Lamp Adjustable Swin...  99.99   \n",
       "2  Brand New  Floor Lamps Living Room Lamp Arc LED Modern Ov...  54.02   \n",
       "3  Brand New  Floor Lamps Living Room Lamp Arc LED Modern Ov...  49.99   \n",
       "4  Brand New  Modern LED Floor Lamp Reading Light Dimmable R...  37.03   \n",
       "\n",
       "  shipping_price   sponsored  \n",
       "0  Free Shipping  SPONSORED   \n",
       "1  Free Shipping        None  \n",
       "2  Free Shipping        None  \n",
       "3  Free Shipping        None  \n",
       "4  Free Shipping        None  "
      ]
     },
     "execution_count": 54,
     "metadata": {},
     "output_type": "execute_result"
    }
   ],
   "source": [
    "df = pd.DataFrame(dlist)\n",
    "df.head()"
   ]
  },
  {
   "cell_type": "code",
   "execution_count": null,
   "metadata": {},
   "outputs": [],
   "source": []
  },
  {
   "cell_type": "markdown",
   "metadata": {},
   "source": [
    "### What did you learn?\n",
    "* How strip works with strings\n",
    "* Using sublime text\n",
    "* how to maneuver through inpsection elements\n",
    "* Use try/except\n",
    "* The nature of web scraping is messy"
   ]
  },
  {
   "cell_type": "code",
   "execution_count": null,
   "metadata": {},
   "outputs": [],
   "source": [
    "|"
   ]
  }
 ],
 "metadata": {
  "kernelspec": {
   "display_name": "Python 3",
   "language": "python",
   "name": "python3"
  },
  "language_info": {
   "codemirror_mode": {
    "name": "ipython",
    "version": 3
   },
   "file_extension": ".py",
   "mimetype": "text/x-python",
   "name": "python",
   "nbconvert_exporter": "python",
   "pygments_lexer": "ipython3",
   "version": "3.7.3"
  }
 },
 "nbformat": 4,
 "nbformat_minor": 2
}
