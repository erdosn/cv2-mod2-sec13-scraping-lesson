{
 "cells": [
  {
   "cell_type": "markdown",
   "metadata": {},
   "source": [
    "### Questions\n"
   ]
  },
  {
   "cell_type": "markdown",
   "metadata": {},
   "source": [
    "### Objectives\n",
    "YWBAT\n",
    "* scrape data from a website (pagination?)\n",
    "* grab the useful data from a webpage\n",
    "* store this data in a dataframe\n",
    "* save your dataframe as a csv file"
   ]
  },
  {
   "cell_type": "markdown",
   "metadata": {},
   "source": [
    "### Outline"
   ]
  },
  {
   "cell_type": "code",
   "execution_count": 1,
   "metadata": {},
   "outputs": [],
   "source": [
    "import requests # grabbing the 'html-info'  from the url\n",
    "\n",
    "import pandas as pd\n",
    "import numpy as np\n",
    "\n",
    "from bs4 import BeautifulSoup # a tool to traverse your html page or xml page or ... \n",
    "\n",
    "\n",
    "import matplotlib.pyplot as plt # maybe? "
   ]
  },
  {
   "cell_type": "markdown",
   "metadata": {},
   "source": [
    "### What should we scrape? \n",
    "- Ebay\n",
    "- Sports - ESPN\n",
    "- Steam\n",
    "- Reddit - API (doesn't need to be scraped, PRAW)\n",
    "- Medium"
   ]
  },
  {
   "cell_type": "markdown",
   "metadata": {},
   "source": [
    "# let's scrape Medium"
   ]
  },
  {
   "cell_type": "code",
   "execution_count": 55,
   "metadata": {},
   "outputs": [
    {
     "data": {
      "text/plain": [
       "['https://www.ebay.com/sch/i.html?_nkw=usb+microphone+professional&_pgn=1',\n",
       " 'https://www.ebay.com/sch/i.html?_nkw=usb+microphone+professional&_pgn=2',\n",
       " 'https://www.ebay.com/sch/i.html?_nkw=usb+microphone+professional&_pgn=3',\n",
       " 'https://www.ebay.com/sch/i.html?_nkw=usb+microphone+professional&_pgn=4',\n",
       " 'https://www.ebay.com/sch/i.html?_nkw=usb+microphone+professional&_pgn=5',\n",
       " 'https://www.ebay.com/sch/i.html?_nkw=usb+microphone+professional&_pgn=6',\n",
       " 'https://www.ebay.com/sch/i.html?_nkw=usb+microphone+professional&_pgn=7',\n",
       " 'https://www.ebay.com/sch/i.html?_nkw=usb+microphone+professional&_pgn=8',\n",
       " 'https://www.ebay.com/sch/i.html?_nkw=usb+microphone+professional&_pgn=9',\n",
       " 'https://www.ebay.com/sch/i.html?_nkw=usb+microphone+professional&_pgn=10',\n",
       " 'https://www.ebay.com/sch/i.html?_nkw=usb+microphone+professional&_pgn=11',\n",
       " 'https://www.ebay.com/sch/i.html?_nkw=usb+microphone+professional&_pgn=12',\n",
       " 'https://www.ebay.com/sch/i.html?_nkw=usb+microphone+professional&_pgn=13',\n",
       " 'https://www.ebay.com/sch/i.html?_nkw=usb+microphone+professional&_pgn=14',\n",
       " 'https://www.ebay.com/sch/i.html?_nkw=usb+microphone+professional&_pgn=15',\n",
       " 'https://www.ebay.com/sch/i.html?_nkw=usb+microphone+professional&_pgn=16',\n",
       " 'https://www.ebay.com/sch/i.html?_nkw=usb+microphone+professional&_pgn=17',\n",
       " 'https://www.ebay.com/sch/i.html?_nkw=usb+microphone+professional&_pgn=18',\n",
       " 'https://www.ebay.com/sch/i.html?_nkw=usb+microphone+professional&_pgn=19',\n",
       " 'https://www.ebay.com/sch/i.html?_nkw=usb+microphone+professional&_pgn=20']"
      ]
     },
     "execution_count": 55,
     "metadata": {},
     "output_type": "execute_result"
    }
   ],
   "source": [
    "url = \"https://www.ebay.com/sch/i.html?_nkw=usb+microphone+professional&_pgn={}\"\n",
    "urls = [url.format(i) for i in range(1, 21)]\n",
    "urls"
   ]
  },
  {
   "cell_type": "code",
   "execution_count": 14,
   "metadata": {},
   "outputs": [],
   "source": [
    "req = requests.get(url)"
   ]
  },
  {
   "cell_type": "code",
   "execution_count": 15,
   "metadata": {},
   "outputs": [],
   "source": [
    "soup = BeautifulSoup(req.content, 'html.parser')"
   ]
  },
  {
   "cell_type": "code",
   "execution_count": 58,
   "metadata": {},
   "outputs": [
    {
     "name": "stdout",
     "output_type": "stream",
     "text": [
      "scraping page 0\n",
      "scraping page 1\n",
      "scraping page 2\n",
      "scraping page 3\n",
      "scraping page 4\n",
      "scraping page 5\n",
      "scraping page 6\n",
      "scraping page 7\n",
      "scraping page 8\n",
      "scraping page 9\n",
      "scraping page 10\n",
      "scraping page 11\n",
      "scraping page 12\n",
      "scraping page 13\n",
      "scraping page 14\n",
      "scraping page 15\n",
      "scraping page 16\n",
      "scraping page 17\n",
      "scraping page 18\n",
      "scraping page 19\n"
     ]
    }
   ],
   "source": [
    "dictionary_list = []\n",
    "\n",
    "\n",
    "for index, url in enumerate(urls):\n",
    "    print(f\"scraping page {index+1}\")\n",
    "    req = requests.get(url)\n",
    "    soup = BeautifulSoup(req.content, 'html.parser')\n",
    "    containers = soup.find_all(\"div\", class_=\"s-item__info clearfix\")\n",
    "\n",
    "    for container in containers:\n",
    "        d = {}\n",
    "        d[\"name\"] = container.find(\"h3\", class_=\"s-item__title\").text\n",
    "        d[\"condition\"] = container.find(\"span\", class_=\"SECONDARY_INFO\").text\n",
    "\n",
    "        try:\n",
    "            trending_price_text = container.find(\"span\", class_=\"s-item__trending-price\").text\n",
    "            d[\"trending_price_type\"], rest_of_trending = trending_price_text.split(\":\")\n",
    "            d[\"trending_price_amount\"] = rest_of_trending.split(\"$\")[1]\n",
    "        except:\n",
    "            pass\n",
    "\n",
    "        d[\"price\"] = container.find(\"span\", class_=\"s-item__price\").text\n",
    "\n",
    "        bold_list = container.find_all(\"span\", class_=\"BOLD\")\n",
    "        for item in bold_list:\n",
    "            if \"Watching\" in item.text:\n",
    "                d[\"watching\"] = item.text\n",
    "                continue\n",
    "            if \"left\" in item.text:\n",
    "                d[\"items_left\"] = item.text\n",
    "                continue\n",
    "            if \"shipping\" in item.text.lower():\n",
    "                d[\"shipping_cost\"] = item.text\n",
    "                continue\n",
    "\n",
    "\n",
    "        dictionary_list.append(d)"
   ]
  },
  {
   "cell_type": "code",
   "execution_count": 59,
   "metadata": {},
   "outputs": [
    {
     "data": {
      "text/html": [
       "<div>\n",
       "<style scoped>\n",
       "    .dataframe tbody tr th:only-of-type {\n",
       "        vertical-align: middle;\n",
       "    }\n",
       "\n",
       "    .dataframe tbody tr th {\n",
       "        vertical-align: top;\n",
       "    }\n",
       "\n",
       "    .dataframe thead th {\n",
       "        text-align: right;\n",
       "    }\n",
       "</style>\n",
       "<table border=\"1\" class=\"dataframe\">\n",
       "  <thead>\n",
       "    <tr style=\"text-align: right;\">\n",
       "      <th></th>\n",
       "      <th>name</th>\n",
       "      <th>condition</th>\n",
       "      <th>trending_price_type</th>\n",
       "      <th>trending_price_amount</th>\n",
       "      <th>price</th>\n",
       "      <th>shipping_cost</th>\n",
       "      <th>items_left</th>\n",
       "      <th>watching</th>\n",
       "    </tr>\n",
       "  </thead>\n",
       "  <tbody>\n",
       "    <tr>\n",
       "      <td>0</td>\n",
       "      <td>USB Streaming Podcast PC Microphone, SUDOTACK ...</td>\n",
       "      <td>Brand New</td>\n",
       "      <td>Was</td>\n",
       "      <td>67.49</td>\n",
       "      <td>$53.99</td>\n",
       "      <td>Free Shipping</td>\n",
       "      <td>Only 1 left!</td>\n",
       "      <td>5 Watching</td>\n",
       "    </tr>\n",
       "    <tr>\n",
       "      <td>1</td>\n",
       "      <td>Blue Microphones Yeti Professional USB Condens...</td>\n",
       "      <td>Pre-Owned</td>\n",
       "      <td>NaN</td>\n",
       "      <td>NaN</td>\n",
       "      <td>$78.00</td>\n",
       "      <td>Free Shipping</td>\n",
       "      <td>NaN</td>\n",
       "      <td>17 Watching</td>\n",
       "    </tr>\n",
       "    <tr>\n",
       "      <td>2</td>\n",
       "      <td>Marantz Professional Pod Pack 1 USB Microphone...</td>\n",
       "      <td>Brand New</td>\n",
       "      <td>NaN</td>\n",
       "      <td>NaN</td>\n",
       "      <td>$59.95</td>\n",
       "      <td>Free Shipping</td>\n",
       "      <td>NaN</td>\n",
       "      <td>NaN</td>\n",
       "    </tr>\n",
       "    <tr>\n",
       "      <td>3</td>\n",
       "      <td>Professional USB Condenser Microphone Studio S...</td>\n",
       "      <td>Brand New</td>\n",
       "      <td>NaN</td>\n",
       "      <td>NaN</td>\n",
       "      <td>$7.99</td>\n",
       "      <td>Free Shipping</td>\n",
       "      <td>NaN</td>\n",
       "      <td>NaN</td>\n",
       "    </tr>\n",
       "    <tr>\n",
       "      <td>4</td>\n",
       "      <td>Blue Yeti Blackout Professional Omnidirectiona...</td>\n",
       "      <td>Brand New</td>\n",
       "      <td>NaN</td>\n",
       "      <td>NaN</td>\n",
       "      <td>$119.36</td>\n",
       "      <td>Free Shipping</td>\n",
       "      <td>NaN</td>\n",
       "      <td>NaN</td>\n",
       "    </tr>\n",
       "  </tbody>\n",
       "</table>\n",
       "</div>"
      ],
      "text/plain": [
       "                                                name  condition  \\\n",
       "0  USB Streaming Podcast PC Microphone, SUDOTACK ...  Brand New   \n",
       "1  Blue Microphones Yeti Professional USB Condens...  Pre-Owned   \n",
       "2  Marantz Professional Pod Pack 1 USB Microphone...  Brand New   \n",
       "3  Professional USB Condenser Microphone Studio S...  Brand New   \n",
       "4  Blue Yeti Blackout Professional Omnidirectiona...  Brand New   \n",
       "\n",
       "  trending_price_type trending_price_amount    price  shipping_cost  \\\n",
       "0                 Was                 67.49   $53.99  Free Shipping   \n",
       "1                 NaN                   NaN   $78.00  Free Shipping   \n",
       "2                 NaN                   NaN   $59.95  Free Shipping   \n",
       "3                 NaN                   NaN    $7.99  Free Shipping   \n",
       "4                 NaN                   NaN  $119.36  Free Shipping   \n",
       "\n",
       "     items_left     watching  \n",
       "0  Only 1 left!   5 Watching  \n",
       "1           NaN  17 Watching  \n",
       "2           NaN          NaN  \n",
       "3           NaN          NaN  \n",
       "4           NaN          NaN  "
      ]
     },
     "execution_count": 59,
     "metadata": {},
     "output_type": "execute_result"
    }
   ],
   "source": [
    "df = pd.DataFrame(dictionary_list)\n",
    "df.head()"
   ]
  },
  {
   "cell_type": "code",
   "execution_count": 60,
   "metadata": {},
   "outputs": [
    {
     "data": {
      "text/plain": [
       "(985, 8)"
      ]
     },
     "execution_count": 60,
     "metadata": {},
     "output_type": "execute_result"
    }
   ],
   "source": [
    "df.shape"
   ]
  },
  {
   "cell_type": "code",
   "execution_count": 61,
   "metadata": {},
   "outputs": [],
   "source": [
    "df.to_csv(\"ebay_microphone_information.csv\", index=False)"
   ]
  },
  {
   "cell_type": "code",
   "execution_count": null,
   "metadata": {},
   "outputs": [],
   "source": []
  },
  {
   "cell_type": "code",
   "execution_count": 62,
   "metadata": {},
   "outputs": [
    {
     "data": {
      "text/html": [
       "<div>\n",
       "<style scoped>\n",
       "    .dataframe tbody tr th:only-of-type {\n",
       "        vertical-align: middle;\n",
       "    }\n",
       "\n",
       "    .dataframe tbody tr th {\n",
       "        vertical-align: top;\n",
       "    }\n",
       "\n",
       "    .dataframe thead th {\n",
       "        text-align: right;\n",
       "    }\n",
       "</style>\n",
       "<table border=\"1\" class=\"dataframe\">\n",
       "  <thead>\n",
       "    <tr style=\"text-align: right;\">\n",
       "      <th></th>\n",
       "      <th>name</th>\n",
       "      <th>condition</th>\n",
       "      <th>trending_price_type</th>\n",
       "      <th>trending_price_amount</th>\n",
       "      <th>price</th>\n",
       "      <th>shipping_cost</th>\n",
       "      <th>items_left</th>\n",
       "      <th>watching</th>\n",
       "    </tr>\n",
       "  </thead>\n",
       "  <tbody>\n",
       "    <tr>\n",
       "      <td>0</td>\n",
       "      <td>USB Streaming Podcast PC Microphone, SUDOTACK ...</td>\n",
       "      <td>Brand New</td>\n",
       "      <td>Was</td>\n",
       "      <td>67.49</td>\n",
       "      <td>$53.99</td>\n",
       "      <td>Free Shipping</td>\n",
       "      <td>Only 1 left!</td>\n",
       "      <td>5 Watching</td>\n",
       "    </tr>\n",
       "    <tr>\n",
       "      <td>1</td>\n",
       "      <td>Blue Microphones Yeti Professional USB Condens...</td>\n",
       "      <td>Pre-Owned</td>\n",
       "      <td>NaN</td>\n",
       "      <td>NaN</td>\n",
       "      <td>$78.00</td>\n",
       "      <td>Free Shipping</td>\n",
       "      <td>NaN</td>\n",
       "      <td>17 Watching</td>\n",
       "    </tr>\n",
       "    <tr>\n",
       "      <td>2</td>\n",
       "      <td>Marantz Professional Pod Pack 1 USB Microphone...</td>\n",
       "      <td>Brand New</td>\n",
       "      <td>NaN</td>\n",
       "      <td>NaN</td>\n",
       "      <td>$59.95</td>\n",
       "      <td>Free Shipping</td>\n",
       "      <td>NaN</td>\n",
       "      <td>NaN</td>\n",
       "    </tr>\n",
       "    <tr>\n",
       "      <td>3</td>\n",
       "      <td>Professional USB Condenser Microphone Studio S...</td>\n",
       "      <td>Brand New</td>\n",
       "      <td>NaN</td>\n",
       "      <td>NaN</td>\n",
       "      <td>$7.99</td>\n",
       "      <td>Free Shipping</td>\n",
       "      <td>NaN</td>\n",
       "      <td>NaN</td>\n",
       "    </tr>\n",
       "    <tr>\n",
       "      <td>4</td>\n",
       "      <td>Blue Yeti Blackout Professional Omnidirectiona...</td>\n",
       "      <td>Brand New</td>\n",
       "      <td>NaN</td>\n",
       "      <td>NaN</td>\n",
       "      <td>$119.36</td>\n",
       "      <td>Free Shipping</td>\n",
       "      <td>NaN</td>\n",
       "      <td>NaN</td>\n",
       "    </tr>\n",
       "  </tbody>\n",
       "</table>\n",
       "</div>"
      ],
      "text/plain": [
       "                                                name  condition  \\\n",
       "0  USB Streaming Podcast PC Microphone, SUDOTACK ...  Brand New   \n",
       "1  Blue Microphones Yeti Professional USB Condens...  Pre-Owned   \n",
       "2  Marantz Professional Pod Pack 1 USB Microphone...  Brand New   \n",
       "3  Professional USB Condenser Microphone Studio S...  Brand New   \n",
       "4  Blue Yeti Blackout Professional Omnidirectiona...  Brand New   \n",
       "\n",
       "  trending_price_type trending_price_amount    price  shipping_cost  \\\n",
       "0                 Was                 67.49   $53.99  Free Shipping   \n",
       "1                 NaN                   NaN   $78.00  Free Shipping   \n",
       "2                 NaN                   NaN   $59.95  Free Shipping   \n",
       "3                 NaN                   NaN    $7.99  Free Shipping   \n",
       "4                 NaN                   NaN  $119.36  Free Shipping   \n",
       "\n",
       "     items_left     watching  \n",
       "0  Only 1 left!   5 Watching  \n",
       "1           NaN  17 Watching  \n",
       "2           NaN          NaN  \n",
       "3           NaN          NaN  \n",
       "4           NaN          NaN  "
      ]
     },
     "execution_count": 62,
     "metadata": {},
     "output_type": "execute_result"
    }
   ],
   "source": [
    "my_new_df = pd.read_csv(\"ebay_microphone_information.csv\")\n",
    "my_new_df.head()"
   ]
  },
  {
   "cell_type": "markdown",
   "metadata": {},
   "source": [
    "### Assessments"
   ]
  },
  {
   "cell_type": "markdown",
   "metadata": {},
   "source": [
    "- How to use BS4 library to scrape data from a website\n",
    "- How to inspect the elements and find what to scrape for\n",
    "- Good to get containers that contain the most information you want\n",
    "- How to turn scraped data into a dataframe using a list of dictionaries"
   ]
  },
  {
   "cell_type": "code",
   "execution_count": null,
   "metadata": {},
   "outputs": [],
   "source": []
  }
 ],
 "metadata": {
  "kernelspec": {
   "display_name": "Python 3",
   "language": "python",
   "name": "python3"
  },
  "language_info": {
   "codemirror_mode": {
    "name": "ipython",
    "version": 3
   },
   "file_extension": ".py",
   "mimetype": "text/x-python",
   "name": "python",
   "nbconvert_exporter": "python",
   "pygments_lexer": "ipython3",
   "version": "3.6.0"
  }
 },
 "nbformat": 4,
 "nbformat_minor": 2
}
